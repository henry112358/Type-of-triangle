{
 "cells": [
  {
   "cell_type": "code",
   "execution_count": 47,
   "metadata": {},
   "outputs": [],
   "source": [
    "test1 = [4,5,6]   # first test case \n",
    "test2 = [4,50,50] # second test case(Isosceles Triangle)\n",
    "test3 = [50,50,50]  # third test case(Equilateral Triangle)"
   ]
  },
  {
   "cell_type": "code",
   "execution_count": 55,
   "metadata": {},
   "outputs": [],
   "source": [
    "def gettype(test):\n",
    "    l = [test[0]-test[1],test[1]-test[2],test[0]-test[2]]    #  [\"A-B\",\"B-C\",\"C-A\"]  where A,B,C are the three sides\n",
    "    # We count how many zeros we got in the list [\"A-B\",\"B-C\",\"C-A\"] \n",
    "    if l.count(0)==3:                \n",
    "        print(\"Equilateral Triangle\")      #  [\"A-B\",\"B-C\",\"C-A\"] for a Equilateral Triangle should be [0,0,0] \n",
    "    elif l.count(0)==1:                    #  [\"A-B\",\"B-C\",\"C-A\"] for a Isosceles Triangle should be [0,Y,X]\n",
    "        print(\"Isosceles Triangle\")\n",
    "    else: print(\"None of them\")    "
   ]
  },
  {
   "cell_type": "code",
   "execution_count": 56,
   "metadata": {},
   "outputs": [
    {
     "name": "stdout",
     "output_type": "stream",
     "text": [
      "None of them\n"
     ]
    }
   ],
   "source": [
    "gettype(test1)  #[4,5,6]"
   ]
  },
  {
   "cell_type": "code",
   "execution_count": 57,
   "metadata": {},
   "outputs": [
    {
     "name": "stdout",
     "output_type": "stream",
     "text": [
      "Isosceles Triangle\n"
     ]
    }
   ],
   "source": [
    "gettype(test2)  #[4,50,50]"
   ]
  },
  {
   "cell_type": "code",
   "execution_count": 58,
   "metadata": {},
   "outputs": [
    {
     "name": "stdout",
     "output_type": "stream",
     "text": [
      "Equilateral Triangle\n"
     ]
    }
   ],
   "source": [
    "gettype(test3) #[50,50,50]"
   ]
  },
  {
   "cell_type": "code",
   "execution_count": null,
   "metadata": {},
   "outputs": [],
   "source": []
  },
  {
   "cell_type": "code",
   "execution_count": null,
   "metadata": {},
   "outputs": [],
   "source": []
  }
 ],
 "metadata": {
  "kernelspec": {
   "display_name": "Python 3",
   "language": "python",
   "name": "python3"
  },
  "language_info": {
   "codemirror_mode": {
    "name": "ipython",
    "version": 3
   },
   "file_extension": ".py",
   "mimetype": "text/x-python",
   "name": "python",
   "nbconvert_exporter": "python",
   "pygments_lexer": "ipython3",
   "version": "3.5.2"
  }
 },
 "nbformat": 4,
 "nbformat_minor": 2
}
